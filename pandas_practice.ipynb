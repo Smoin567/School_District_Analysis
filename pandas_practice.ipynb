{
 "cells": [
  {
   "cell_type": "code",
   "execution_count": 1,
   "id": "75e1d1fd",
   "metadata": {},
   "outputs": [],
   "source": [
    "# List of high schools\n",
    "high_schools = [\"Hernandez High School\", \"Figueroa High School\",\n",
    "                \"Wilson High School\",\"Wright High School\"]"
   ]
  },
  {
   "cell_type": "code",
   "execution_count": 2,
   "id": "9e51e5f3",
   "metadata": {},
   "outputs": [
    {
     "name": "stdout",
     "output_type": "stream",
     "text": [
      "Hernandez High School\n",
      "Figueroa High School\n",
      "Wilson High School\n",
      "Wright High School\n"
     ]
    }
   ],
   "source": [
    "for school in high_schools:\n",
    "    print(school)"
   ]
  },
  {
   "cell_type": "code",
   "execution_count": 3,
   "id": "d71eb50e",
   "metadata": {},
   "outputs": [],
   "source": [
    "# A dictionary of high schools and the type of school.\n",
    "high_school_types = [{\"High School\": \"Griffin\", \"Type\":\"District\"},\n",
    "                    {\"High School\": \"Figueroa\", \"Type\": \"District\"},\n",
    "                    {\"High School\": \"Wilson\", \"Type\": \"Charter\"},\n",
    "                    {\"High School\": \"Wright\", \"Type\": \"Charter\"}]"
   ]
  },
  {
   "cell_type": "code",
   "execution_count": 4,
   "id": "4b0d846f",
   "metadata": {},
   "outputs": [
    {
     "ename": "NameError",
     "evalue": "name 'high_school_type' is not defined",
     "output_type": "error",
     "traceback": [
      "\u001b[1;31m---------------------------------------------------------------------------\u001b[0m",
      "\u001b[1;31mNameError\u001b[0m                                 Traceback (most recent call last)",
      "\u001b[1;32m~\\AppData\\Local\\Temp\\ipykernel_18328\\220304470.py\u001b[0m in \u001b[0;36m<module>\u001b[1;34m\u001b[0m\n\u001b[0;32m      1\u001b[0m \u001b[1;32mfor\u001b[0m \u001b[0mschool\u001b[0m \u001b[1;32min\u001b[0m \u001b[0mhigh_schools\u001b[0m\u001b[1;33m:\u001b[0m\u001b[1;33m\u001b[0m\u001b[1;33m\u001b[0m\u001b[0m\n\u001b[1;32m----> 2\u001b[1;33m     \u001b[0mprint\u001b[0m\u001b[1;33m(\u001b[0m\u001b[0mhigh_school_type\u001b[0m\u001b[1;33m)\u001b[0m\u001b[1;33m\u001b[0m\u001b[1;33m\u001b[0m\u001b[0m\n\u001b[0m",
      "\u001b[1;31mNameError\u001b[0m: name 'high_school_type' is not defined"
     ]
    }
   ],
   "source": [
    "for school in high_schools:\n",
    "    print(high_school_type)"
   ]
  },
  {
   "cell_type": "code",
   "execution_count": 5,
   "id": "7c7e8393",
   "metadata": {},
   "outputs": [
    {
     "ename": "SyntaxError",
     "evalue": "EOL while scanning string literal (1462569477.py, line 2)",
     "output_type": "error",
     "traceback": [
      "\u001b[1;36m  File \u001b[1;32m\"C:\\Users\\Shumail\\AppData\\Local\\Temp\\ipykernel_18328\\1462569477.py\"\u001b[1;36m, line \u001b[1;32m2\u001b[0m\n\u001b[1;33m    high_schools = [\"Huang High School\",  \"Figueroa High School\", \"Shelton High School\", \"Hernandez High School\",\"Griffin High School\",\"Wilson High\u001b[0m\n\u001b[1;37m                                                                                                                                                   ^\u001b[0m\n\u001b[1;31mSyntaxError\u001b[0m\u001b[1;31m:\u001b[0m EOL while scanning string literal\n"
     ]
    }
   ],
   "source": [
    "# List of high schools\n",
    "high_schools = [\"Huang High School\",  \"Figueroa High School\", \"Shelton High School\", \"Hernandez High School\",\"Griffin High School\",\"Wilson High School\", \"Cabrera High School\", \"Bailey High School\", \"Holden High School\", \"Pena High School\", \"Wright High School\",\"Rodriguez High School\", \"Johnson High School\", \"Ford High School\", \"Thomas High School\"]"
   ]
  },
  {
   "cell_type": "code",
   "execution_count": 9,
   "id": "1d84cde0",
   "metadata": {},
   "outputs": [],
   "source": [
    "# Add the Pandas dependency.\n",
    "import pandas as pd"
   ]
  },
  {
   "cell_type": "code",
   "execution_count": 10,
   "id": "b1e1c1ec",
   "metadata": {},
   "outputs": [],
   "source": [
    "# Create a Pandas Series from a list.\n",
    "school_series = pd.Series(high_schools)"
   ]
  },
  {
   "cell_type": "code",
   "execution_count": 11,
   "id": "357009e9",
   "metadata": {},
   "outputs": [
    {
     "data": {
      "text/plain": [
       "0    Hernandez High School\n",
       "1     Figueroa High School\n",
       "2       Wilson High School\n",
       "3       Wright High School\n",
       "dtype: object"
      ]
     },
     "execution_count": 11,
     "metadata": {},
     "output_type": "execute_result"
    }
   ],
   "source": [
    "# Create a Pandas Series from a list.\n",
    "school_series = pd.Series(high_schools)\n",
    "school_series"
   ]
  },
  {
   "cell_type": "code",
   "execution_count": 1,
   "id": "247d41d8",
   "metadata": {},
   "outputs": [],
   "source": [
    "# A dictionary of high schools\n",
    "high_school_dicts = [{\"School ID\": 0, \"school_name\": \"Huang High    School\", \"type\": \"District\"},\n",
    "                   {\"School ID\": 1, \"school_name\": \"Figueroa High School\", \"type\": \"District\"},\n",
    "                    {\"School ID\": 2, \"school_name\":\"Shelton High School\", \"type\": \"Charter\"},\n",
    "                    {\"School ID\": 3, \"school_name\":\"Hernandez High School\", \"type\": \"District\"},\n",
    "                    {\"School ID\": 4, \"school_name\":\"Griffin High School\", \"type\": \"Charter\"}]"
   ]
  },
  {
   "cell_type": "code",
   "execution_count": 2,
   "id": "72153437",
   "metadata": {},
   "outputs": [
    {
     "ename": "NameError",
     "evalue": "name 'pd' is not defined",
     "output_type": "error",
     "traceback": [
      "\u001b[1;31m---------------------------------------------------------------------------\u001b[0m",
      "\u001b[1;31mNameError\u001b[0m                                 Traceback (most recent call last)",
      "\u001b[1;32m~\\AppData\\Local\\Temp\\ipykernel_6352\\1392472262.py\u001b[0m in \u001b[0;36m<module>\u001b[1;34m\u001b[0m\n\u001b[1;32m----> 1\u001b[1;33m \u001b[0mschool_df\u001b[0m \u001b[1;33m=\u001b[0m \u001b[0mpd\u001b[0m\u001b[1;33m.\u001b[0m\u001b[0mDataFrame\u001b[0m\u001b[1;33m(\u001b[0m\u001b[0mhigh_school_dicts\u001b[0m\u001b[1;33m)\u001b[0m\u001b[1;33m\u001b[0m\u001b[1;33m\u001b[0m\u001b[0m\n\u001b[0m\u001b[0;32m      2\u001b[0m \u001b[0mschool_df\u001b[0m\u001b[1;33m\u001b[0m\u001b[1;33m\u001b[0m\u001b[0m\n",
      "\u001b[1;31mNameError\u001b[0m: name 'pd' is not defined"
     ]
    }
   ],
   "source": [
    "school_df = pd.DataFrame(high_school_dicts)\n",
    "school_df\n"
   ]
  },
  {
   "cell_type": "code",
   "execution_count": 3,
   "id": "57275e08",
   "metadata": {},
   "outputs": [],
   "source": [
    "# Three separate lists of information on high schools\n",
    "school_id = [0, 1, 2, 3, 4]\n",
    "\n",
    "school_name = [\"Huang High School\", \"Figueroa High School\",\n",
    "\"Shelton High School\", \"Hernandez High School\",\"Griffin High School\"]\n",
    "\n",
    "type_of_school = [\"District\", \"District\", \"Charter\", \"District\",\"Charter\"]"
   ]
  },
  {
   "cell_type": "code",
   "execution_count": 4,
   "id": "5a1415b9",
   "metadata": {},
   "outputs": [
    {
     "ename": "NameError",
     "evalue": "name 'pd' is not defined",
     "output_type": "error",
     "traceback": [
      "\u001b[1;31m---------------------------------------------------------------------------\u001b[0m",
      "\u001b[1;31mNameError\u001b[0m                                 Traceback (most recent call last)",
      "\u001b[1;32m~\\AppData\\Local\\Temp\\ipykernel_6352\\1497382973.py\u001b[0m in \u001b[0;36m<module>\u001b[1;34m\u001b[0m\n\u001b[0;32m      1\u001b[0m \u001b[1;31m# Initialize a new DataFrame.\u001b[0m\u001b[1;33m\u001b[0m\u001b[1;33m\u001b[0m\u001b[1;33m\u001b[0m\u001b[0m\n\u001b[1;32m----> 2\u001b[1;33m \u001b[0mschools_df\u001b[0m \u001b[1;33m=\u001b[0m \u001b[0mpd\u001b[0m\u001b[1;33m.\u001b[0m\u001b[0mDataFrame\u001b[0m\u001b[1;33m(\u001b[0m\u001b[1;33m)\u001b[0m\u001b[1;33m\u001b[0m\u001b[1;33m\u001b[0m\u001b[0m\n\u001b[0m",
      "\u001b[1;31mNameError\u001b[0m: name 'pd' is not defined"
     ]
    }
   ],
   "source": [
    "# Initialize a new DataFrame.\n",
    "schools_df = pd.DataFrame()"
   ]
  },
  {
   "cell_type": "code",
   "execution_count": 5,
   "id": "e3704232",
   "metadata": {},
   "outputs": [
    {
     "ename": "NameError",
     "evalue": "name 'schools_df' is not defined",
     "output_type": "error",
     "traceback": [
      "\u001b[1;31m---------------------------------------------------------------------------\u001b[0m",
      "\u001b[1;31mNameError\u001b[0m                                 Traceback (most recent call last)",
      "\u001b[1;32m~\\AppData\\Local\\Temp\\ipykernel_6352\\3342234275.py\u001b[0m in \u001b[0;36m<module>\u001b[1;34m\u001b[0m\n\u001b[0;32m      1\u001b[0m \u001b[1;31m# Add the list to a new DataFrame.\u001b[0m\u001b[1;33m\u001b[0m\u001b[1;33m\u001b[0m\u001b[1;33m\u001b[0m\u001b[0m\n\u001b[1;32m----> 2\u001b[1;33m \u001b[0mschools_df\u001b[0m\u001b[1;33m[\u001b[0m\u001b[1;34m\"School ID\"\u001b[0m\u001b[1;33m]\u001b[0m \u001b[1;33m=\u001b[0m \u001b[0mschool_id\u001b[0m\u001b[1;33m\u001b[0m\u001b[1;33m\u001b[0m\u001b[0m\n\u001b[0m\u001b[0;32m      3\u001b[0m \u001b[1;33m\u001b[0m\u001b[0m\n\u001b[0;32m      4\u001b[0m \u001b[1;31m# Print the DataFrame.\u001b[0m\u001b[1;33m\u001b[0m\u001b[1;33m\u001b[0m\u001b[1;33m\u001b[0m\u001b[0m\n\u001b[0;32m      5\u001b[0m \u001b[0mschools_df\u001b[0m\u001b[1;33m\u001b[0m\u001b[1;33m\u001b[0m\u001b[0m\n",
      "\u001b[1;31mNameError\u001b[0m: name 'schools_df' is not defined"
     ]
    }
   ],
   "source": [
    "# Add the list to a new DataFrame.\n",
    "schools_df[\"School ID\"] = school_id\n",
    "\n",
    "# Print the DataFrame.\n",
    "schools_df"
   ]
  },
  {
   "cell_type": "code",
   "execution_count": 6,
   "id": "ae19d76f",
   "metadata": {},
   "outputs": [],
   "source": [
    "# Create a dictionary of information on high schools.\n",
    "high_schools_dict = {'School ID': school_id, 'school_name':school_name, 'type':type_of_school}"
   ]
  },
  {
   "cell_type": "code",
   "execution_count": null,
   "id": "215fb699",
   "metadata": {},
   "outputs": [],
   "source": []
  }
 ],
 "metadata": {
  "kernelspec": {
   "display_name": "PythonData",
   "language": "python",
   "name": "pythondata"
  },
  "language_info": {
   "codemirror_mode": {
    "name": "ipython",
    "version": 3
   },
   "file_extension": ".py",
   "mimetype": "text/x-python",
   "name": "python",
   "nbconvert_exporter": "python",
   "pygments_lexer": "ipython3",
   "version": "3.7.13"
  }
 },
 "nbformat": 4,
 "nbformat_minor": 5
}
